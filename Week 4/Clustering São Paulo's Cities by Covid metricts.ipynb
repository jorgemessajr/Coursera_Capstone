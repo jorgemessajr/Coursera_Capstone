{
 "cells": [
  {
   "cell_type": "markdown",
   "metadata": {},
   "source": [
    "# Introduction"
   ]
  },
  {
   "cell_type": "markdown",
   "metadata": {},
   "source": [
    "In this problem, we want to cluster cities in state of São Paulo, Brazil. \n",
    "This clustering will be based on data from São Paulo's Government Github that provides daily data about COVID-19 evolution around the State.\n",
    "This clustering is important to know how cities are close regarding its metrics about COVID-19."
   ]
  },
  {
   "cell_type": "markdown",
   "metadata": {},
   "source": [
    "# Dataset "
   ]
  },
  {
   "cell_type": "markdown",
   "metadata": {},
   "source": [
    "We're going to use data from São Paulo's Government Github (\"https://raw.githubusercontent.com/seade-R/dados-covid-sp/master/data/\")\n",
    "\n",
    "We are going to use informations below:\n",
    "        \n",
    "    nome_munic: City Name\n",
    "    dia: Day\n",
    "    mes: Month\n",
    "    obitos: deaths\n",
    "    datahora: Complete date\n",
    "    casos: cases\n",
    "    pop_60: population with age greater or equal 60 years\n",
    "    pop: total population\n",
    "    area: city area\n",
    "    latitude: latitude\n",
    "    longitude: longitude"
   ]
  },
  {
   "cell_type": "code",
   "execution_count": 4,
   "metadata": {},
   "outputs": [],
   "source": [
    "#Importing Pandas\n",
    "import pandas as pd"
   ]
  },
  {
   "cell_type": "code",
   "execution_count": 5,
   "metadata": {},
   "outputs": [
    {
     "data": {
      "text/html": [
       "<div>\n",
       "<style scoped>\n",
       "    .dataframe tbody tr th:only-of-type {\n",
       "        vertical-align: middle;\n",
       "    }\n",
       "\n",
       "    .dataframe tbody tr th {\n",
       "        vertical-align: top;\n",
       "    }\n",
       "\n",
       "    .dataframe thead th {\n",
       "        text-align: right;\n",
       "    }\n",
       "</style>\n",
       "<table border=\"1\" class=\"dataframe\">\n",
       "  <thead>\n",
       "    <tr style=\"text-align: right;\">\n",
       "      <th></th>\n",
       "      <th>nome_munic</th>\n",
       "      <th>dia</th>\n",
       "      <th>mes</th>\n",
       "      <th>obitos</th>\n",
       "      <th>datahora</th>\n",
       "      <th>casos</th>\n",
       "      <th>pop_60</th>\n",
       "      <th>pop</th>\n",
       "      <th>area</th>\n",
       "      <th>latitude</th>\n",
       "      <th>longitude</th>\n",
       "    </tr>\n",
       "  </thead>\n",
       "  <tbody>\n",
       "    <tr>\n",
       "      <th>0</th>\n",
       "      <td>Adamantina</td>\n",
       "      <td>25</td>\n",
       "      <td>2</td>\n",
       "      <td>0</td>\n",
       "      <td>2020-02-25</td>\n",
       "      <td>0</td>\n",
       "      <td>7398</td>\n",
       "      <td>33894</td>\n",
       "      <td>41199</td>\n",
       "      <td>-21,6820</td>\n",
       "      <td>-51,0737</td>\n",
       "    </tr>\n",
       "    <tr>\n",
       "      <th>1</th>\n",
       "      <td>Adolfo</td>\n",
       "      <td>25</td>\n",
       "      <td>2</td>\n",
       "      <td>0</td>\n",
       "      <td>2020-02-25</td>\n",
       "      <td>0</td>\n",
       "      <td>761</td>\n",
       "      <td>3447</td>\n",
       "      <td>21106</td>\n",
       "      <td>-21,2325</td>\n",
       "      <td>-49,6451</td>\n",
       "    </tr>\n",
       "    <tr>\n",
       "      <th>2</th>\n",
       "      <td>Aguaí</td>\n",
       "      <td>25</td>\n",
       "      <td>2</td>\n",
       "      <td>0</td>\n",
       "      <td>2020-02-25</td>\n",
       "      <td>0</td>\n",
       "      <td>5245</td>\n",
       "      <td>35608</td>\n",
       "      <td>47455</td>\n",
       "      <td>-22,0572</td>\n",
       "      <td>-46,9735</td>\n",
       "    </tr>\n",
       "    <tr>\n",
       "      <th>3</th>\n",
       "      <td>Águas da Prata</td>\n",
       "      <td>25</td>\n",
       "      <td>2</td>\n",
       "      <td>0</td>\n",
       "      <td>2020-02-25</td>\n",
       "      <td>0</td>\n",
       "      <td>1729</td>\n",
       "      <td>7797</td>\n",
       "      <td>14267</td>\n",
       "      <td>-21,9319</td>\n",
       "      <td>-46,7176</td>\n",
       "    </tr>\n",
       "    <tr>\n",
       "      <th>4</th>\n",
       "      <td>Águas de Lindóia</td>\n",
       "      <td>25</td>\n",
       "      <td>2</td>\n",
       "      <td>0</td>\n",
       "      <td>2020-02-25</td>\n",
       "      <td>0</td>\n",
       "      <td>3275</td>\n",
       "      <td>18374</td>\n",
       "      <td>6013</td>\n",
       "      <td>-22,4733</td>\n",
       "      <td>-46,6314</td>\n",
       "    </tr>\n",
       "  </tbody>\n",
       "</table>\n",
       "</div>"
      ],
      "text/plain": [
       "         nome_munic  dia  mes  obitos    datahora  casos  pop_60    pop  \\\n",
       "0        Adamantina   25    2       0  2020-02-25      0    7398  33894   \n",
       "1            Adolfo   25    2       0  2020-02-25      0     761   3447   \n",
       "2             Aguaí   25    2       0  2020-02-25      0    5245  35608   \n",
       "3    Águas da Prata   25    2       0  2020-02-25      0    1729   7797   \n",
       "4  Águas de Lindóia   25    2       0  2020-02-25      0    3275  18374   \n",
       "\n",
       "    area  latitude longitude  \n",
       "0  41199  -21,6820  -51,0737  \n",
       "1  21106  -21,2325  -49,6451  \n",
       "2  47455  -22,0572  -46,9735  \n",
       "3  14267  -21,9319  -46,7176  \n",
       "4   6013  -22,4733  -46,6314  "
      ]
     },
     "execution_count": 5,
     "metadata": {},
     "output_type": "execute_result"
    }
   ],
   "source": [
    "url      = \"https://raw.githubusercontent.com/seade-R/dados-covid-sp/master/data/dados_covid_sp.csv\"\n",
    "columns = ['nome_munic','dia','mes','obitos','datahora','casos','pop_60','pop','area','latitude','longitude']\n",
    "\n",
    "\n",
    "covid_sp = pd.DataFrame(pd.read_csv(url,encoding='UTF-8', sep=';'), columns = columns)\n",
    "\n",
    "\n",
    "covid_sp.head()"
   ]
  },
  {
   "cell_type": "markdown",
   "metadata": {},
   "source": [
    "### Foursquare\n",
    "\n",
    "From foursquare, we will retrieve information about hospitals close to a point. In this this case hospitals close to a city\n",
    "    "
   ]
  },
  {
   "cell_type": "code",
   "execution_count": null,
   "metadata": {},
   "outputs": [],
   "source": []
  }
 ],
 "metadata": {
  "kernelspec": {
   "display_name": "Python 3",
   "language": "python",
   "name": "python3"
  },
  "language_info": {
   "codemirror_mode": {
    "name": "ipython",
    "version": 3
   },
   "file_extension": ".py",
   "mimetype": "text/x-python",
   "name": "python",
   "nbconvert_exporter": "python",
   "pygments_lexer": "ipython3",
   "version": "3.7.6"
  }
 },
 "nbformat": 4,
 "nbformat_minor": 4
}
